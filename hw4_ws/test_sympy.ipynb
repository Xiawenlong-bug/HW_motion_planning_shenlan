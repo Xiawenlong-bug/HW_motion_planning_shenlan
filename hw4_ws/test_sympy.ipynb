{
 "cells": [
  {
   "cell_type": "code",
   "execution_count": 7,
   "metadata": {},
   "outputs": [
    {
     "name": "stdout",
     "output_type": "stream",
     "text": [
      "J(T)= T + (4.0*vx0**2 + 4.0*vy0**2 + 4.0*vz0**2)/T + (12.0*px0*vx0 - 12.0*pxf*vx0 + 12.0*py0*vy0 - 12.0*pyf*vy0 + 12.0*pz0*vz0 - 12.0*pzf*vz0)/T**2 + (12.0*px0**2 - 24.0*px0*pxf + 12.0*pxf**2 + 12.0*py0**2 - 24.0*py0*pyf + 12.0*pyf**2 + 12.0*pz0**2 - 24.0*pz0*pzf + 12.0*pzf**2)/T**3\n",
      "dJ/dT= 1 + (-4.0*vx0**2 - 4.0*vy0**2 - 4.0*vz0**2)/T**2 + (-24.0*px0*vx0 + 24.0*pxf*vx0 - 24.0*py0*vy0 + 24.0*pyf*vy0 - 24.0*pz0*vz0 + 24.0*pzf*vz0)/T**3 + (-36.0*px0**2 + 72.0*px0*pxf - 36.0*pxf**2 - 36.0*py0**2 + 72.0*py0*pyf - 36.0*pyf**2 - 36.0*pz0**2 + 72.0*pz0*pzf - 36.0*pzf**2)/T**4\n",
      "we should solve the function to find the best T* with the function below:\n",
      "T**4 + T**2*(-4.0*vx0**2 - 4.0*vy0**2 - 4.0*vz0**2) + T*(-24.0*px0*vx0 + 24.0*pxf*vx0 - 24.0*py0*vy0 + 24.0*pyf*vy0 - 24.0*pz0*vz0 + 24.0*pzf*vz0) - 36.0*px0**2 + 72.0*px0*pxf - 36.0*pxf**2 - 36.0*py0**2 + 72.0*py0*pyf - 36.0*pyf**2 - 36.0*pz0**2 + 72.0*pz0*pzf - 36.0*pzf**2 =0\n"
     ]
    }
   ],
   "source": [
    "from __future__ import division\n",
    "from sympy import *\n",
    "\n",
    "alpha1, alpha2, alpha3, beta1, beta2, beta3 , T = \\\n",
    "symbols('alpha1,alpha2,alpha3,beta1,beta2,beta3,T')\n",
    "\n",
    "J = symbols('J',cls=Function)\n",
    "\n",
    "px0,py0,pz0 = symbols('px0,py0,pz0')\n",
    "vx0,vy0,vz0=symbols('vx0,vy0,vz0')\n",
    "pxf,pyf,pzf = symbols('pxf,pyf,pzf')\n",
    "\n",
    "dpx=pxf-px0-vx0*T\n",
    "dpy=pyf-py0-vy0*T\n",
    "dpz=pzf-pz0-vz0*T\n",
    "\n",
    "dvx=0-vx0\n",
    "dvy=0-vy0\n",
    "dvz=0-vz0\n",
    "\n",
    "\n",
    "alpha1=(-12/T**3)*dpx+(6/T**2)*dvx\n",
    "alpha2=(-12/T**3)*dpy+(6/T**2)*dvy\n",
    "alpha3=(-12/T**3)*dpz+(6/T**2)*dvz\n",
    "\n",
    "beta1=(6/T**2)*dpx+(-2/T)*dvx\n",
    "beta2=(6/T**2)*dpy+(-2/T)*dvy\n",
    "beta3=(6/T**2)*dpz+(-2/T)*dvz\n",
    "\n",
    "J=T+((1/3)*alpha1**2*T**3+alpha1*beta1*T**2+beta1**2*T)+\\\n",
    "   ((1/3)*alpha2**2*T**3+alpha2*beta2*T**2+beta2**2*T)+\\\n",
    "   ((1/3)*alpha3**2*T**3+alpha3*beta3*T**2+beta3**2*T)\n",
    "\n",
    "J_expand = expand(J)#对表达式进行展开\n",
    "J_expr=collect(J_expand,T)#对T的幂的系数进行收集\n",
    "\n",
    "print('J(T)=',J_expr)\n",
    "\n",
    "dJ_dT=diff(J,T)\n",
    "dJ_dT_expand=expand(dJ_dT)\n",
    "dJ_dT_expr=collect(dJ_dT_expand,T)\n",
    "\n",
    "print('dJ/dT=',dJ_dT_expr)\n",
    "\n",
    "dJ_eq=collect(expand(dJ_dT_expr*T**4),T)\n",
    "print('we should solve the function to find the best T* with the function below:')\n",
    "print(dJ_eq,'=0')"
   ]
  }
 ],
 "metadata": {
  "kernelspec": {
   "display_name": "pythonProject",
   "language": "python",
   "name": "python3"
  },
  "language_info": {
   "codemirror_mode": {
    "name": "ipython",
    "version": 3
   },
   "file_extension": ".py",
   "mimetype": "text/x-python",
   "name": "python",
   "nbconvert_exporter": "python",
   "pygments_lexer": "ipython3",
   "version": "3.11.5"
  }
 },
 "nbformat": 4,
 "nbformat_minor": 2
}
